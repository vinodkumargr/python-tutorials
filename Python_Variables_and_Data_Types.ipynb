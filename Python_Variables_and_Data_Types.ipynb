{
 "cells": [
  {
   "cell_type": "markdown",
   "metadata": {},
   "source": [
    "# Python Variables and Data Types\n",
    "Variables are used to store data in Python.\n",
    "\n",
    "## Data Types\n",
    "- int\n",
    "- float\n",
    "- str\n",
    "- bool\n",
    "\n",
    "## Example\n",
    "```python\n",
    "x = 10\n",
    "y = 3.14\n",
    "name = \"Alice\"\n",
    "is_student = True\n",
    "print(x, y, name, is_student)\n",
    "```"
   ]
  }
 ],
 "metadata": {},
 "nbformat": 4,
 "nbformat_minor": 4
}