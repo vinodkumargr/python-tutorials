{
 "cells": [
  {
   "cell_type": "markdown",
   "metadata": {},
   "source": [
    "# Introduction to Python\n",
    "Python is a high-level, interpreted programming language known for its simplicity and versatility.\n",
    "\n",
    "## History\n",
    "Python was created by Guido van Rossum and first released in 1991.\n",
    "\n",
    "## Applications\n",
    "- Web Development\n",
    "- Data Science\n",
    "- Machine Learning\n",
    "- Automation\n",
    "\n",
    "## Example\n",
    "```python\n",
    "print(\"Hello, World!\")\n",
    "```"
   ]
  }
 ],
 "metadata": {},
 "nbformat": 4,
 "nbformat_minor": 4
}