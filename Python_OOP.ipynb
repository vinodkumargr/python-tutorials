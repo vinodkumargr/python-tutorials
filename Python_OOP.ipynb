{
 "cells": [
  {
   "cell_type": "markdown",
   "metadata": {},
   "source": [
    "# Python Object-Oriented Programming\n",
    "OOP is a programming paradigm based on objects and classes.\n",
    "\n",
    "## Concepts\n",
    "- Class\n",
    "- Object\n",
    "- Inheritance\n",
    "\n",
    "## Example\n",
    "```python\n",
    "class Person:\n",
    "    def __init__(self, name, age):\n",
    "        self.name = name\n",
    "        self.age = age\n",
    "\n",
    "    def greet(self):\n",
    "        print(f\"Hello, my name is {self.name}\")\n",
    "\n",
    "person = Person(\"Alice\", 25)\n",
    "person.greet()\n",
    "```"
   ]
  }
 ],
 "metadata": {},
 "nbformat": 4,
 "nbformat_minor": 4
}