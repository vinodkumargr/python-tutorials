{
 "cells": [
  {
   "cell_type": "markdown",
   "metadata": {},
   "source": [
    "# Python Functions\n",
    "Functions are reusable blocks of code.\n",
    "\n",
    "## Syntax\n",
    "```python\n",
    "def function_name(parameters):\n",
    "    # code\n",
    "    return value\n",
    "```\n",
    "\n",
    "## Example\n",
    "```python\n",
    "def add(a, b):\n",
    "    return a + b\n",
    "\n",
    "result = add(5, 3)\n",
    "print(result)\n",
    "```"
   ]
  }
 ],
 "metadata": {},
 "nbformat": 4,
 "nbformat_minor": 4
}